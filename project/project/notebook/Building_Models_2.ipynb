{
 "cells": [
  {
   "cell_type": "code",
   "execution_count": 1,
   "metadata": {
    "slideshow": {
     "slide_type": "slide"
    }
   },
   "outputs": [],
   "source": [
    "# Module: Data Science in Finance, Machine Learning in 30 minutes!\n",
    "# Version 2.0\n",
    "# Topic : Building models\n",
    "# Example source: https://www.kaggle.com/wendykan/lending-club-loan-data\n",
    "#####################################################################\n",
    "# For support or questions, contact Sri Krishnamurthy at\n",
    "# sri@quantuniversity.com\n",
    "# Copyright 2018 QuantUniversity LLC.\n",
    "#####################################################################"
   ]
  },
  {
   "cell_type": "markdown",
   "metadata": {},
   "source": [
    "# Building models"
   ]
  },
  {
   "cell_type": "markdown",
   "metadata": {},
   "source": [
    "This notebook deals with understanding the lending data obtained from https://www.kaggle.com/wendykan/lending-club-loan-data. We will cluster the data using K-Means clustering to see patterns in the dataset."
   ]
  },
  {
   "cell_type": "markdown",
   "metadata": {
    "slideshow": {
     "slide_type": "slide"
    }
   },
   "source": [
    "# Contents"
   ]
  },
  {
   "cell_type": "markdown",
   "metadata": {
    "slideshow": {
     "slide_type": "-"
    }
   },
   "source": [
    "* Imports\n",
    "* Exploring the data\n",
    "    * Dataset\n",
    "    * Numerical and Categorical Features\n",
    "* Preparing the data\n",
    "    * Normalizing the data\n",
    "    * Randomizing the data\n",
    "    * Train-Test split\n",
    "* Metrics for Regression\n",
    "    * RMSE\n",
    "    * MAE\n",
    "    * MAPE\n",
    "* Machine Learning Models\n",
    "    * Linear Regression\n",
    "    * Random Forest\n",
    "    * Neural Network Regressor\n",
    "* Comparing model performance\n",
    "* Making predictions\n",
    "* Saving the model\n"
   ]
  },
  {
   "cell_type": "markdown",
   "metadata": {
    "slideshow": {
     "slide_type": "slide"
    }
   },
   "source": [
    "## Imports"
   ]
  },
  {
   "cell_type": "code",
   "execution_count": 2,
   "metadata": {},
   "outputs": [],
   "source": [
    "# for numerical analysis and data processing\n",
    "import numpy as np\n",
    "import pandas as pd\n",
    "import itertools\n",
    "\n",
    "from IPython.display import Image\n",
    "import warnings\n",
    "warnings.filterwarnings('ignore')\n",
    "\n",
    "# for Machine learning algorithms\n",
    "from sklearn import preprocessing\n",
    "from sklearn.cluster import KMeans\n",
    "from sklearn.manifold import TSNE\n",
    "from sklearn.linear_model import LinearRegression\n",
    "from sklearn.ensemble import RandomForestRegressor\n",
    "from sklearn.neural_network import MLPRegressor\n",
    "from sklearn.metrics import mean_squared_error, mean_absolute_error\n",
    "from scipy.spatial.distance import cdist\n",
    "\n",
    "# for vizualizations\n",
    "%matplotlib inline \n",
    "import matplotlib.pyplot as plt\n",
    "from matplotlib import cm as cm\n",
    "from mpl_toolkits.mplot3d import Axes3D\n",
    "import seaborn as sns"
   ]
  },
  {
   "cell_type": "markdown",
   "metadata": {
    "slideshow": {
     "slide_type": "slide"
    }
   },
   "source": [
    "# Exploring the Data"
   ]
  },
  {
   "cell_type": "markdown",
   "metadata": {
    "slideshow": {
     "slide_type": "slide"
    }
   },
   "source": [
    "## Dataset"
   ]
  },
  {
   "cell_type": "markdown",
   "metadata": {},
   "source": [
    "The data set is the lending data for lendingclub from August 2011 to December 2011 for some borrowers. The feature descriptions for the data are also provided. Not all the features are required for making predictions, some features are redundant in the original data file. The provided data file is already cleaned and only relevant features are provided. There are two types of features, numerical and categorical."
   ]
  },
  {
   "cell_type": "markdown",
   "metadata": {},
   "source": [
    "Reading the input data from csv file."
   ]
  },
  {
   "cell_type": "code",
   "execution_count": 3,
   "metadata": {},
   "outputs": [],
   "source": [
    "df = pd.read_csv(\"../data/LendingClubLoan.csv\", low_memory=False)\n",
    "del df['issue_d'] # removing issue date as it wont affect the prediction (redundant feature)\n",
    "df_description = pd.read_excel('../data/LCDataDictionary.xlsx').dropna()"
   ]
  },
  {
   "cell_type": "markdown",
   "metadata": {
    "slideshow": {
     "slide_type": "slide"
    }
   },
   "source": [
    "## Numerical and Categorical features"
   ]
  },
  {
   "cell_type": "code",
   "execution_count": 4,
   "metadata": {},
   "outputs": [],
   "source": [
    "numeric_columns = df.select_dtypes(include=['float64','int64']).columns\n",
    "categorical_columns = df.select_dtypes(include=['object']).columns\n",
    "\n",
    "for col in categorical_columns:\n",
    "    df[col] = df[col].astype('category')"
   ]
  },
  {
   "cell_type": "code",
   "execution_count": 5,
   "metadata": {},
   "outputs": [
    {
     "data": {
      "text/plain": [
       "Index(['loan_amnt', 'int_rate', 'installment', 'annual_inc', 'dti',\n",
       "       'delinq_2yrs', 'inq_last_6mths', 'loan_status_Binary'],\n",
       "      dtype='object')"
      ]
     },
     "execution_count": 5,
     "metadata": {},
     "output_type": "execute_result"
    }
   ],
   "source": [
    "numeric_columns"
   ]
  },
  {
   "cell_type": "code",
   "execution_count": 6,
   "metadata": {},
   "outputs": [
    {
     "data": {
      "text/plain": [
       "Index(['term', 'grade', 'sub_grade', 'emp_length', 'home_ownership',\n",
       "       'verification_status', 'purpose', 'addr_state'],\n",
       "      dtype='object')"
      ]
     },
     "execution_count": 6,
     "metadata": {},
     "output_type": "execute_result"
    }
   ],
   "source": [
    "categorical_columns"
   ]
  },
  {
   "cell_type": "code",
   "execution_count": 7,
   "metadata": {},
   "outputs": [],
   "source": [
    "categories={}\n",
    "for cat in categorical_columns:\n",
    "    categories[cat] = df[cat].cat.categories.tolist()"
   ]
  },
  {
   "cell_type": "code",
   "execution_count": 8,
   "metadata": {},
   "outputs": [],
   "source": [
    "p_categories = df['purpose'].cat.categories.tolist()\n",
    "s_categories = df['addr_state'].cat.categories.tolist()\n",
    "df[categorical_columns] = df[categorical_columns].apply(lambda x: x.cat.codes)"
   ]
  },
  {
   "cell_type": "markdown",
   "metadata": {},
   "source": [
    "Storing interest rate statistics which will be used later for inference. "
   ]
  },
  {
   "cell_type": "code",
   "execution_count": 9,
   "metadata": {},
   "outputs": [
    {
     "name": "stdout",
     "output_type": "stream",
     "text": [
      "5.42 24.11 18.689999999999998\n"
     ]
    }
   ],
   "source": [
    "min_rate= df['int_rate'].min()\n",
    "max_rate= df['int_rate'].max()\n",
    "print(min_rate, max_rate, max_rate- min_rate)"
   ]
  },
  {
   "cell_type": "markdown",
   "metadata": {
    "slideshow": {
     "slide_type": "slide"
    }
   },
   "source": [
    "# Preparing the dataset "
   ]
  },
  {
   "cell_type": "markdown",
   "metadata": {
    "slideshow": {
     "slide_type": "fragment"
    }
   },
   "source": [
    "#### Normalizing the data\n",
    "Normalize the data set for ease of calculations so that all features have values between 0 and 1."
   ]
  },
  {
   "cell_type": "code",
   "execution_count": 10,
   "metadata": {},
   "outputs": [],
   "source": [
    "df_max = df.max()\n",
    "df_min = df.min()"
   ]
  },
  {
   "cell_type": "code",
   "execution_count": 11,
   "metadata": {},
   "outputs": [],
   "source": [
    "df=(df-df.min())/(df.max()-df.min())"
   ]
  },
  {
   "cell_type": "markdown",
   "metadata": {
    "slideshow": {
     "slide_type": "fragment"
    }
   },
   "source": [
    "#### Randomizing the data\n",
    "Randomize the dataset so that any ordered patterns dont influence the prediction. (We have already skipped date as an influencing factor)"
   ]
  },
  {
   "cell_type": "code",
   "execution_count": 12,
   "metadata": {},
   "outputs": [],
   "source": [
    "df = df.iloc[np.random.permutation(len(df))]"
   ]
  },
  {
   "cell_type": "markdown",
   "metadata": {
    "slideshow": {
     "slide_type": "fragment"
    }
   },
   "source": [
    "#### Train-test split\n",
    "The data is split into training and testing data. x represents the input features whereas y represents the output i.e. the interest rate.As a rule of thumb, we split the data into 80% training data and 20% testing or validation data."
   ]
  },
  {
   "cell_type": "code",
   "execution_count": 13,
   "metadata": {},
   "outputs": [],
   "source": [
    "y = df.iloc[:,df.columns.isin([\"int_rate\"])]\n",
    "x = df.loc[:, ~df.columns.isin([\"int_rate\"])]\n",
    "\n",
    "total_samples=len(df)\n",
    "split = 0.8\n",
    "\n",
    "x_train = x[0:int(total_samples*split)]\n",
    "x_test = x[int(total_samples*split):total_samples]\n",
    "y_train = y[0:int(total_samples*split)]\n",
    "y_test = y[int(total_samples*split):total_samples]"
   ]
  },
  {
   "cell_type": "code",
   "execution_count": 14,
   "metadata": {
    "slideshow": {
     "slide_type": "skip"
    }
   },
   "outputs": [],
   "source": [
    "def mean_absolute_percentage_error(y_true, y_pred): \n",
    "    '''\n",
    "    Calculates mean absolute error of the true and predicted values.\n",
    "    '''\n",
    "    y_true, y_pred = np.array(y_true), np.array(y_pred)\n",
    "    count = 0\n",
    "    sum = 0\n",
    "    for a, p in zip(y_true, y_pred):\n",
    "        if(a!=0):\n",
    "            sum+=(abs(a-p)/a)\n",
    "            count+=1\n",
    "    return (sum/count) * 100"
   ]
  },
  {
   "cell_type": "code",
   "execution_count": 15,
   "metadata": {
    "slideshow": {
     "slide_type": "skip"
    }
   },
   "outputs": [],
   "source": [
    "def view_metrics(y_test, predictions, algorithm, samples, total_samples):\n",
    "    '''\n",
    "    Plots the true and predicted values and prints RMS, MAE and MAPE metrics.\n",
    "    '''\n",
    "    fig = plt.figure(figsize=(18,5))\n",
    "    plt.scatter(x=[i for i in range(samples)], y=[x for x in predictions[0:samples]], label='Predicted values')\n",
    "    plt.scatter(x=[i for i in range(samples)], y=[x[0] for x in y_test.values[0:samples]], label='True values')\n",
    "    plt.title('True and Predicted values for test dataset - %s' % algorithm)\n",
    "    plt.legend()\n",
    "    plt.show()\n",
    "    \n",
    "#     fig = plt.figure(figsize=(18,5))\n",
    "#     plt.scatter(x=[i for i in range(total_samples)], y=[x for x in predictions], label='Predicted values')\n",
    "#     plt.scatter(x=[i for i in range(total_samples)], y=[x[0] for x in y_test.values], label='True values')\n",
    "#     plt.title('True and Predicted values for test dataset - %s' % algorithm)\n",
    "#     plt.legend()\n",
    "#     plt.show()\n",
    "\n",
    "    RMS =  np.sqrt(mean_squared_error(y_test, predictions, multioutput='raw_values'))\n",
    "    MAE = mean_absolute_error(y_test, predictions, multioutput='raw_values')\n",
    "    MAPE = mean_absolute_percentage_error(y_test, predictions)\n",
    "    print(\"Root Mean Squared Error:\", RMS)\n",
    "    print(\"Mean Absolute Error\", MAE) \n",
    "    print(\"Mean Absolute Percentage Error\", MAPE)\n",
    "    return RMS, MAE, MAPE"
   ]
  },
  {
   "cell_type": "markdown",
   "metadata": {
    "slideshow": {
     "slide_type": "slide"
    }
   },
   "source": [
    "### Metrics for regression models"
   ]
  },
  {
   "cell_type": "markdown",
   "metadata": {
    "slideshow": {
     "slide_type": "fragment"
    }
   },
   "source": [
    "#### Root Mean Squared Error\n",
    "It represents the sample standard deviation of the differences between predicted values and observed values."
   ]
  },
  {
   "cell_type": "markdown",
   "metadata": {},
   "source": [
    "![alt text](rmse.PNG \"Logo Title Text 1\")"
   ]
  },
  {
   "cell_type": "markdown",
   "metadata": {
    "slideshow": {
     "slide_type": "fragment"
    }
   },
   "source": [
    "#### Mean Absolute Error\n",
    "MAE is the average of the absolute difference between the predicted values and observed value. The MAE is a linear score which means that all the individual differences are weighted equally in the average."
   ]
  },
  {
   "cell_type": "markdown",
   "metadata": {},
   "source": [
    "![alt text](mae.PNG \"Logo Title Text 1\")"
   ]
  },
  {
   "cell_type": "markdown",
   "metadata": {
    "slideshow": {
     "slide_type": "fragment"
    }
   },
   "source": [
    "#### Mean Absolute Percent Error\n",
    "MAPE measures the size of the error in percentage terms. It is calculated as the average of the unsigned percentage error."
   ]
  },
  {
   "cell_type": "markdown",
   "metadata": {},
   "source": [
    "![alt text](mape.PNG \"Logo Title Text 1\")"
   ]
  },
  {
   "cell_type": "markdown",
   "metadata": {
    "slideshow": {
     "slide_type": "slide"
    }
   },
   "source": [
    "# Machine Learning Models"
   ]
  },
  {
   "cell_type": "markdown",
   "metadata": {
    "slideshow": {
     "slide_type": "slide"
    }
   },
   "source": [
    "### Linear Regression"
   ]
  },
  {
   "cell_type": "code",
   "execution_count": 16,
   "metadata": {},
   "outputs": [
    {
     "name": "stdout",
     "output_type": "stream",
     "text": [
      "[[ 2.02870672e-02 -3.84704727e-04 -3.43499126e-02 -5.67212371e-03\n",
      "   1.09233157e+00  4.96574357e-04  7.51993825e-03 -4.07831355e-02\n",
      "   3.21224304e-03 -7.35803924e-03 -1.19879040e-03  8.51949790e-03\n",
      "   1.61327840e-02  3.07534798e-02 -1.67536602e-03]]\n"
     ]
    }
   ],
   "source": [
    "lin_reg_model = LinearRegression() # build model\n",
    "lin_reg_model= lin_reg_model.fit(x_train, y_train) # train model\n",
    "R2 = lin_reg_model.score(x_train, y_train) # coefficient of determination\n",
    "print(lin_reg_model.coef_)"
   ]
  },
  {
   "cell_type": "code",
   "execution_count": 17,
   "metadata": {},
   "outputs": [],
   "source": [
    "lin_reg_model_predictions = lin_reg_model.predict(x_test) # make predictions"
   ]
  },
  {
   "cell_type": "code",
   "execution_count": 18,
   "metadata": {
    "slideshow": {
     "slide_type": "fragment"
    }
   },
   "outputs": [
    {
     "data": {
      "image/png": "[encoded data removed]",
      "text/plain": [
       "<Figure size 1296x360 with 1 Axes>"
      ]
     },
     "metadata": {
      "needs_background": "light"
     },
     "output_type": "display_data"
    },
    {
     "name": "stdout",
     "output_type": "stream",
     "text": [
      "Root Mean Squared Error: [0.0382833]\n",
      "Mean Absolute Error [0.03104896]\n",
      "Mean Absolute Percentage Error [18.13798001]\n"
     ]
    }
   ],
   "source": [
    "lin_reg_model_metrics = view_metrics(y_test, lin_reg_model_predictions,'Linear Regression', samples = 50, total_samples=2000)\n",
    "## If predicted value is same as true value, the points will be overlapping. Closer the points, better is the prediction."
   ]
  },
  {
   "cell_type": "markdown",
   "metadata": {
    "slideshow": {
     "slide_type": "slide"
    }
   },
   "source": [
    "### Random Forest Regressor Model"
   ]
  },
  {
   "cell_type": "code",
   "execution_count": 19,
   "metadata": {},
   "outputs": [],
   "source": [
    "rand_forest_model = RandomForestRegressor(max_depth=5, random_state=0) # build model\n",
    "rand_forest_model = rand_forest_model.fit(x_train, y_train.values.ravel()) # train model\n",
    "RandomForestRegressor(bootstrap=True, criterion='mse', max_depth=5,\n",
    "           max_features='auto', max_leaf_nodes=None,\n",
    "           min_impurity_decrease=0.0, min_impurity_split=None,\n",
    "           min_samples_leaf=1, min_samples_split=2,\n",
    "           min_weight_fraction_leaf=0.0, n_estimators=10, n_jobs=1,\n",
    "           oob_score=False, random_state=0, verbose=0, warm_start=False)\n",
    "feature_importance = rand_forest_model.feature_importances_\n",
    "R2 = rand_forest_model.score(x_train, y_train) # coefficient of determination\n",
    "rand_forest_model_predictions = rand_forest_model.predict(x_test) # make predictions"
   ]
  },
  {
   "cell_type": "code",
   "execution_count": 20,
   "metadata": {
    "slideshow": {
     "slide_type": "fragment"
    }
   },
   "outputs": [
    {
     "data": {
      "image/png": "[encoded data removed]",
      "text/plain": [
       "<Figure size 1296x360 with 1 Axes>"
      ]
     },
     "metadata": {
      "needs_background": "light"
     },
     "output_type": "display_data"
    },
    {
     "name": "stdout",
     "output_type": "stream",
     "text": [
      "Root Mean Squared Error: [0.0162865]\n",
      "Mean Absolute Error [0.01137794]\n",
      "Mean Absolute Percentage Error [5.8464281]\n"
     ]
    }
   ],
   "source": [
    "rand_forest_model_metrics = view_metrics(y_test, rand_forest_model_predictions,'Random Forest Regressor', samples = 50, total_samples=2000)"
   ]
  },
  {
   "cell_type": "markdown",
   "metadata": {
    "slideshow": {
     "slide_type": "slide"
    }
   },
   "source": [
    "### Neural Network Regression Model"
   ]
  },
  {
   "cell_type": "code",
   "execution_count": 21,
   "metadata": {
    "scrolled": true
   },
   "outputs": [
    {
     "name": "stdout",
     "output_type": "stream",
     "text": [
      "Iteration 1, loss = 0.07932405\n",
      "Iteration 2, loss = 0.03444504\n",
      "Iteration 3, loss = 0.02618902\n",
      "Iteration 4, loss = 0.02042466\n",
      "Iteration 5, loss = 0.01624231\n",
      "Iteration 6, loss = 0.01316767\n",
      "Iteration 7, loss = 0.01091990\n",
      "Iteration 8, loss = 0.00918215\n",
      "Iteration 9, loss = 0.00779907\n",
      "Iteration 10, loss = 0.00665381\n",
      "Iteration 11, loss = 0.00569385\n",
      "Iteration 12, loss = 0.00487222\n",
      "Iteration 13, loss = 0.00416329\n",
      "Iteration 14, loss = 0.00355999\n",
      "Iteration 15, loss = 0.00307518\n",
      "Iteration 16, loss = 0.00269104\n",
      "Iteration 17, loss = 0.00239897\n",
      "Iteration 18, loss = 0.00218948\n",
      "Iteration 19, loss = 0.00202486\n",
      "Iteration 20, loss = 0.00189629\n",
      "Iteration 21, loss = 0.00177751\n",
      "Iteration 22, loss = 0.00165722\n",
      "Iteration 23, loss = 0.00155958\n",
      "Iteration 24, loss = 0.00148143\n",
      "Iteration 25, loss = 0.00141855\n",
      "Iteration 26, loss = 0.00136305\n",
      "Iteration 27, loss = 0.00131459\n",
      "Iteration 28, loss = 0.00127318\n",
      "Iteration 29, loss = 0.00122445\n",
      "Iteration 30, loss = 0.00118145\n",
      "Iteration 31, loss = 0.00114453\n",
      "Iteration 32, loss = 0.00110706\n",
      "Iteration 33, loss = 0.00107266\n",
      "Iteration 34, loss = 0.00103163\n",
      "Iteration 35, loss = 0.00099149\n",
      "Iteration 36, loss = 0.00095327\n",
      "Iteration 37, loss = 0.00091361\n",
      "Iteration 38, loss = 0.00087601\n",
      "Iteration 39, loss = 0.00083574\n",
      "Iteration 40, loss = 0.00079034\n",
      "Iteration 41, loss = 0.00074454\n",
      "Iteration 42, loss = 0.00070814\n",
      "Iteration 43, loss = 0.00065987\n",
      "Iteration 44, loss = 0.00061603\n",
      "Iteration 45, loss = 0.00057889\n",
      "Iteration 46, loss = 0.00054624\n",
      "Iteration 47, loss = 0.00051540\n",
      "Iteration 48, loss = 0.00048915\n",
      "Iteration 49, loss = 0.00046842\n",
      "Iteration 50, loss = 0.00044785\n",
      "Iteration 51, loss = 0.00043270\n",
      "Iteration 52, loss = 0.00041695\n",
      "Iteration 53, loss = 0.00040280\n",
      "Iteration 54, loss = 0.00038810\n",
      "Iteration 55, loss = 0.00037675\n",
      "Iteration 56, loss = 0.00036784\n",
      "Iteration 57, loss = 0.00035619\n",
      "Iteration 58, loss = 0.00034455\n",
      "Iteration 59, loss = 0.00033863\n",
      "Iteration 60, loss = 0.00032875\n",
      "Iteration 61, loss = 0.00031786\n",
      "Iteration 62, loss = 0.00031155\n",
      "Iteration 63, loss = 0.00030271\n",
      "Iteration 64, loss = 0.00029564\n",
      "Iteration 65, loss = 0.00028758\n",
      "Iteration 66, loss = 0.00028158\n",
      "Iteration 67, loss = 0.00027429\n",
      "Iteration 68, loss = 0.00026788\n",
      "Iteration 69, loss = 0.00026127\n",
      "Iteration 70, loss = 0.00025369\n",
      "Iteration 71, loss = 0.00024697\n",
      "Iteration 72, loss = 0.00024092\n",
      "Iteration 73, loss = 0.00023638\n",
      "Iteration 74, loss = 0.00023048\n",
      "Iteration 75, loss = 0.00022821\n",
      "Iteration 76, loss = 0.00022031\n",
      "Iteration 77, loss = 0.00021491\n",
      "Iteration 78, loss = 0.00021024\n",
      "Iteration 79, loss = 0.00020664\n",
      "Iteration 80, loss = 0.00020146\n",
      "Iteration 81, loss = 0.00019753\n",
      "Iteration 82, loss = 0.00019731\n",
      "Iteration 83, loss = 0.00019005\n",
      "Iteration 84, loss = 0.00018628\n",
      "Iteration 85, loss = 0.00018453\n",
      "Iteration 86, loss = 0.00018182\n",
      "Iteration 87, loss = 0.00017752\n",
      "Iteration 88, loss = 0.00017363\n",
      "Iteration 89, loss = 0.00017267\n",
      "Iteration 90, loss = 0.00017039\n",
      "Iteration 91, loss = 0.00016897\n",
      "Iteration 92, loss = 0.00016508\n",
      "Iteration 93, loss = 0.00016638\n",
      "Iteration 94, loss = 0.00016351\n",
      "Iteration 95, loss = 0.00016114\n",
      "Iteration 96, loss = 0.00015795\n",
      "Iteration 97, loss = 0.00015896\n",
      "Iteration 98, loss = 0.00016170\n",
      "Iteration 99, loss = 0.00015646\n",
      "Iteration 100, loss = 0.00015758\n",
      "Iteration 101, loss = 0.00015556\n",
      "Iteration 102, loss = 0.00015317\n",
      "Iteration 103, loss = 0.00015200\n",
      "Iteration 104, loss = 0.00015110\n",
      "Iteration 105, loss = 0.00015111\n",
      "Iteration 106, loss = 0.00015049\n",
      "Iteration 107, loss = 0.00015086\n",
      "Iteration 108, loss = 0.00014888\n",
      "Iteration 109, loss = 0.00015103\n",
      "Iteration 110, loss = 0.00014992\n",
      "Iteration 111, loss = 0.00014662\n",
      "Iteration 112, loss = 0.00014842\n",
      "Iteration 113, loss = 0.00014821\n",
      "Iteration 114, loss = 0.00014681\n",
      "Iteration 115, loss = 0.00014804\n",
      "Iteration 116, loss = 0.00015020\n",
      "Iteration 117, loss = 0.00014535\n",
      "Iteration 118, loss = 0.00014559\n",
      "Iteration 119, loss = 0.00014443\n",
      "Iteration 120, loss = 0.00014429\n",
      "Iteration 121, loss = 0.00014819\n",
      "Iteration 122, loss = 0.00014772\n",
      "Iteration 123, loss = 0.00014396\n",
      "Iteration 124, loss = 0.00014324\n",
      "Iteration 125, loss = 0.00014320\n",
      "Iteration 126, loss = 0.00014278\n",
      "Iteration 127, loss = 0.00014169\n",
      "Iteration 128, loss = 0.00014219\n",
      "Iteration 129, loss = 0.00014245\n",
      "Iteration 130, loss = 0.00014234\n",
      "Iteration 131, loss = 0.00014195\n",
      "Iteration 132, loss = 0.00014421\n",
      "Iteration 133, loss = 0.00014058\n",
      "Iteration 134, loss = 0.00014228\n",
      "Iteration 135, loss = 0.00014236\n",
      "Iteration 136, loss = 0.00014240\n",
      "Iteration 137, loss = 0.00014357\n",
      "Iteration 138, loss = 0.00014211\n",
      "Iteration 139, loss = 0.00014233\n",
      "Iteration 140, loss = 0.00014082\n",
      "Iteration 141, loss = 0.00014130\n",
      "Iteration 142, loss = 0.00014295\n",
      "Iteration 143, loss = 0.00014277\n",
      "Iteration 144, loss = 0.00015028\n",
      "Iteration 145, loss = 0.00014271\n",
      "Iteration 146, loss = 0.00014334\n",
      "Iteration 147, loss = 0.00014243\n",
      "Iteration 148, loss = 0.00013967\n",
      "Iteration 149, loss = 0.00014257\n",
      "Iteration 150, loss = 0.00014043\n",
      "Iteration 151, loss = 0.00014450\n",
      "Iteration 152, loss = 0.00014384\n",
      "Iteration 153, loss = 0.00013905\n",
      "Iteration 154, loss = 0.00013974\n",
      "Iteration 155, loss = 0.00013968\n",
      "Iteration 156, loss = 0.00013880\n",
      "Iteration 157, loss = 0.00014103\n",
      "Iteration 158, loss = 0.00013904\n",
      "Iteration 159, loss = 0.00013879\n",
      "Iteration 160, loss = 0.00013961\n",
      "Iteration 161, loss = 0.00013989\n",
      "Iteration 162, loss = 0.00014170\n",
      "Iteration 163, loss = 0.00014166\n",
      "Iteration 164, loss = 0.00013912\n",
      "Iteration 165, loss = 0.00013823\n",
      "Iteration 166, loss = 0.00013899\n",
      "Iteration 167, loss = 0.00013849\n",
      "Iteration 168, loss = 0.00013901\n",
      "Iteration 169, loss = 0.00014036\n",
      "Iteration 170, loss = 0.00013746\n",
      "Iteration 171, loss = 0.00013832\n",
      "Iteration 172, loss = 0.00013756\n",
      "Iteration 173, loss = 0.00014061\n",
      "Iteration 174, loss = 0.00013947\n",
      "Iteration 175, loss = 0.00014031\n",
      "Iteration 176, loss = 0.00014003\n",
      "Iteration 177, loss = 0.00013966\n",
      "Iteration 178, loss = 0.00014233\n",
      "Iteration 179, loss = 0.00013842\n",
      "Iteration 180, loss = 0.00014060\n",
      "Iteration 181, loss = 0.00014061\n",
      "Iteration 182, loss = 0.00013745\n",
      "Iteration 183, loss = 0.00013927\n",
      "Iteration 184, loss = 0.00013924\n",
      "Iteration 185, loss = 0.00013995\n",
      "Iteration 186, loss = 0.00013843\n",
      "Iteration 187, loss = 0.00013813\n",
      "Iteration 188, loss = 0.00013910\n",
      "Iteration 189, loss = 0.00014002\n",
      "Iteration 190, loss = 0.00013675\n",
      "Iteration 191, loss = 0.00013843\n",
      "Iteration 192, loss = 0.00013891\n",
      "Iteration 193, loss = 0.00013744\n",
      "Iteration 194, loss = 0.00013894\n",
      "Iteration 195, loss = 0.00013770\n",
      "Iteration 196, loss = 0.00013862\n",
      "Iteration 197, loss = 0.00013849\n",
      "Iteration 198, loss = 0.00013780\n",
      "Iteration 199, loss = 0.00014531\n",
      "Iteration 200, loss = 0.00013846\n",
      "Iteration 201, loss = 0.00014260\n",
      "Iteration 202, loss = 0.00014453\n",
      "Iteration 203, loss = 0.00013789\n",
      "Iteration 204, loss = 0.00013860\n",
      "Iteration 205, loss = 0.00014029\n",
      "Iteration 206, loss = 0.00013789\n",
      "Iteration 207, loss = 0.00013772\n",
      "Iteration 208, loss = 0.00013621\n",
      "Iteration 209, loss = 0.00013821\n",
      "Iteration 210, loss = 0.00013610\n",
      "Iteration 211, loss = 0.00014247\n",
      "Iteration 212, loss = 0.00013828\n",
      "Iteration 213, loss = 0.00013622\n",
      "Iteration 214, loss = 0.00013608\n",
      "Iteration 215, loss = 0.00013863\n",
      "Iteration 216, loss = 0.00013890\n",
      "Iteration 217, loss = 0.00013741\n",
      "Iteration 218, loss = 0.00013908\n",
      "Iteration 219, loss = 0.00013689\n",
      "Iteration 220, loss = 0.00014092\n",
      "Iteration 221, loss = 0.00013530\n",
      "Iteration 222, loss = 0.00013608\n",
      "Iteration 223, loss = 0.00014203\n",
      "Iteration 224, loss = 0.00013593\n",
      "Iteration 225, loss = 0.00013795\n",
      "Iteration 226, loss = 0.00013991\n",
      "Iteration 227, loss = 0.00013694\n",
      "Iteration 228, loss = 0.00013763\n",
      "Iteration 229, loss = 0.00013637\n",
      "Iteration 230, loss = 0.00013791\n",
      "Iteration 231, loss = 0.00013519\n",
      "Iteration 232, loss = 0.00013544\n",
      "Iteration 233, loss = 0.00013728\n",
      "Iteration 234, loss = 0.00013758\n",
      "Iteration 235, loss = 0.00013802\n",
      "Iteration 236, loss = 0.00013774\n",
      "Iteration 237, loss = 0.00013838\n",
      "Iteration 238, loss = 0.00013755\n",
      "Iteration 239, loss = 0.00013609\n",
      "Iteration 240, loss = 0.00013611\n",
      "Iteration 241, loss = 0.00013535\n",
      "Iteration 242, loss = 0.00013678\n",
      "Iteration 243, loss = 0.00013473\n",
      "Iteration 244, loss = 0.00013604\n",
      "Iteration 245, loss = 0.00013810\n",
      "Iteration 246, loss = 0.00013680\n",
      "Iteration 247, loss = 0.00013551\n",
      "Iteration 248, loss = 0.00013661\n",
      "Iteration 249, loss = 0.00013537\n",
      "Iteration 250, loss = 0.00013490\n",
      "Iteration 251, loss = 0.00013631\n",
      "Iteration 252, loss = 0.00013596\n",
      "Iteration 253, loss = 0.00013760\n",
      "Iteration 254, loss = 0.00013524\n",
      "Iteration 255, loss = 0.00013635\n",
      "Iteration 256, loss = 0.00013524\n",
      "Iteration 257, loss = 0.00013601\n",
      "Iteration 258, loss = 0.00013659\n",
      "Iteration 259, loss = 0.00013450\n",
      "Iteration 260, loss = 0.00013647\n",
      "Iteration 261, loss = 0.00013438\n"
     ]
    },
    {
     "name": "stdout",
     "output_type": "stream",
     "text": [
      "Iteration 262, loss = 0.00013483\n",
      "Iteration 263, loss = 0.00013968\n",
      "Iteration 264, loss = 0.00013759\n",
      "Iteration 265, loss = 0.00013455\n",
      "Iteration 266, loss = 0.00013332\n",
      "Iteration 267, loss = 0.00013534\n",
      "Iteration 268, loss = 0.00013569\n",
      "Iteration 269, loss = 0.00013628\n",
      "Iteration 270, loss = 0.00013576\n",
      "Iteration 271, loss = 0.00013490\n",
      "Iteration 272, loss = 0.00014089\n",
      "Iteration 273, loss = 0.00013969\n",
      "Iteration 274, loss = 0.00013535\n",
      "Iteration 275, loss = 0.00013510\n",
      "Iteration 276, loss = 0.00013834\n",
      "Iteration 277, loss = 0.00014023\n",
      "Iteration 278, loss = 0.00013929\n",
      "Iteration 279, loss = 0.00013827\n",
      "Iteration 280, loss = 0.00013693\n",
      "Iteration 281, loss = 0.00013962\n",
      "Iteration 282, loss = 0.00013567\n",
      "Iteration 283, loss = 0.00013590\n",
      "Iteration 284, loss = 0.00013381\n",
      "Iteration 285, loss = 0.00013569\n",
      "Iteration 286, loss = 0.00013568\n",
      "Iteration 287, loss = 0.00013632\n",
      "Iteration 288, loss = 0.00013828\n",
      "Iteration 289, loss = 0.00013506\n",
      "Iteration 290, loss = 0.00013844\n",
      "Iteration 291, loss = 0.00013633\n",
      "Iteration 292, loss = 0.00013442\n",
      "Iteration 293, loss = 0.00013557\n",
      "Iteration 294, loss = 0.00013324\n",
      "Iteration 295, loss = 0.00013418\n",
      "Iteration 296, loss = 0.00013353\n",
      "Iteration 297, loss = 0.00013968\n",
      "Iteration 298, loss = 0.00013415\n",
      "Iteration 299, loss = 0.00013624\n",
      "Iteration 300, loss = 0.00013608\n"
     ]
    },
    {
     "name": "stderr",
     "output_type": "stream",
     "text": [
      "/home/qsandbox7/anaconda3/lib/python3.6/site-packages/sklearn/neural_network/multilayer_perceptron.py:564: ConvergenceWarning: Stochastic Optimizer: Maximum iterations (300) reached and the optimization hasn't converged yet.\n",
      "  % self.max_iter, ConvergenceWarning)\n"
     ]
    }
   ],
   "source": [
    "nn_model = MLPRegressor(hidden_layer_sizes=(10,4),\n",
    "                                    activation='relu', # activation function in the nodes of the neral net\n",
    "                                    solver='adam', # optimizer algorithm\n",
    "                                    learning_rate='constant',\n",
    "                                    learning_rate_init=0.001, # initial learning rate\n",
    "                                    max_iter=300, # max iterations to train for\n",
    "                                    tol = -1, # tolerance for when to stop training should be range 0.001 to 0.0000001, -1 for max_iter\n",
    "                                    shuffle=True,\n",
    "                                    verbose=True) # show details at each iteration\n",
    "nn_model = nn_model.fit(x_train, y_train.values.ravel())"
   ]
  },
  {
   "cell_type": "code",
   "execution_count": 22,
   "metadata": {},
   "outputs": [],
   "source": [
    "nn_model_predictions = nn_model.predict(x_test)"
   ]
  },
  {
   "cell_type": "code",
   "execution_count": 23,
   "metadata": {
    "slideshow": {
     "slide_type": "fragment"
    }
   },
   "outputs": [
    {
     "data": {
      "image/png": "[encoded data removed]",
      "text/plain": [
       "<Figure size 1296x360 with 1 Axes>"
      ]
     },
     "metadata": {
      "needs_background": "light"
     },
     "output_type": "display_data"
    },
    {
     "name": "stdout",
     "output_type": "stream",
     "text": [
      "Root Mean Squared Error: [0.01804665]\n",
      "Mean Absolute Error [0.01251387]\n",
      "Mean Absolute Percentage Error [6.00501397]\n"
     ]
    }
   ],
   "source": [
    "nn_model_metrics = view_metrics(y_test, nn_model_predictions,'Neural Network Regression Model', samples = 50, total_samples=2000)"
   ]
  },
  {
   "cell_type": "markdown",
   "metadata": {
    "slideshow": {
     "slide_type": "slide"
    }
   },
   "source": [
    "## Comparing model performances"
   ]
  },
  {
   "cell_type": "code",
   "execution_count": 24,
   "metadata": {},
   "outputs": [
    {
     "name": "stdout",
     "output_type": "stream",
     "text": [
      "     MODEL |    RMSE |     MAE |    MAPE\n",
      "___________________________________________\n",
      "   LIN_REG | 0.03828 | 0.03105 | 18.13798 %\n",
      " RAND_FRST | 0.01629 | 0.01138 | 5.84643 %\n",
      "        NN | 0.01805 | 0.01251 | 6.00501 %\n",
      "\n",
      "Note: Lower values are better\n"
     ]
    }
   ],
   "source": [
    "print(\"%10s | %7s | %7s | %7s\" % ('MODEL', 'RMSE', 'MAE', 'MAPE'))\n",
    "print('___________________________________________')\n",
    "for name,metrics in zip(['LIN_REG','RAND_FRST','NN'],[lin_reg_model_metrics, rand_forest_model_metrics, nn_model_metrics]):\n",
    "    print (\"%10s | %.5f | %.5f | %.5f %%\" % (name, metrics[0][0], metrics[1][0], metrics[2][0]))\n",
    "print()\n",
    "print('Note: Lower values are better')"
   ]
  },
  {
   "cell_type": "markdown",
   "metadata": {
    "slideshow": {
     "slide_type": "slide"
    }
   },
   "source": [
    "## Predicting interest rates"
   ]
  },
  {
   "cell_type": "code",
   "execution_count": 25,
   "metadata": {},
   "outputs": [],
   "source": [
    "def get_interest_rate(model, features):\n",
    "    return (model.predict(features))*(max_rate-min_rate) + min_rate"
   ]
  },
  {
   "cell_type": "code",
   "execution_count": 26,
   "metadata": {},
   "outputs": [
    {
     "name": "stdout",
     "output_type": "stream",
     "text": [
      "Predicted interest rate is: [14.48207387]\n",
      "for the following user profile:\n"
     ]
    },
    {
     "data": {
      "text/html": [
       "<div>\n",
       "<style scoped>\n",
       "    .dataframe tbody tr th:only-of-type {\n",
       "        vertical-align: middle;\n",
       "    }\n",
       "\n",
       "    .dataframe tbody tr th {\n",
       "        vertical-align: top;\n",
       "    }\n",
       "\n",
       "    .dataframe thead th {\n",
       "        text-align: right;\n",
       "    }\n",
       "</style>\n",
       "<table border=\"1\" class=\"dataframe\">\n",
       "  <thead>\n",
       "    <tr style=\"text-align: right;\">\n",
       "      <th></th>\n",
       "      <th>loan_amnt</th>\n",
       "      <th>term</th>\n",
       "      <th>installment</th>\n",
       "      <th>grade</th>\n",
       "      <th>sub_grade</th>\n",
       "      <th>emp_length</th>\n",
       "      <th>home_ownership</th>\n",
       "      <th>annual_inc</th>\n",
       "      <th>verification_status</th>\n",
       "      <th>purpose</th>\n",
       "      <th>addr_state</th>\n",
       "      <th>dti</th>\n",
       "      <th>delinq_2yrs</th>\n",
       "      <th>inq_last_6mths</th>\n",
       "      <th>loan_status_Binary</th>\n",
       "    </tr>\n",
       "  </thead>\n",
       "  <tbody>\n",
       "    <tr>\n",
       "      <th>2657</th>\n",
       "      <td>0.268382</td>\n",
       "      <td>0.0</td>\n",
       "      <td>0.258338</td>\n",
       "      <td>0.333333</td>\n",
       "      <td>0.352941</td>\n",
       "      <td>0.454545</td>\n",
       "      <td>1.0</td>\n",
       "      <td>0.036036</td>\n",
       "      <td>0.5</td>\n",
       "      <td>0.166667</td>\n",
       "      <td>0.636364</td>\n",
       "      <td>0.271725</td>\n",
       "      <td>0.0</td>\n",
       "      <td>0.125</td>\n",
       "      <td>0.0</td>\n",
       "    </tr>\n",
       "  </tbody>\n",
       "</table>\n",
       "</div>"
      ],
      "text/plain": [
       "      loan_amnt  term  installment     grade  sub_grade  emp_length  \\\n",
       "2657   0.268382   0.0     0.258338  0.333333   0.352941    0.454545   \n",
       "\n",
       "      home_ownership  annual_inc  verification_status   purpose  addr_state  \\\n",
       "2657             1.0    0.036036                  0.5  0.166667    0.636364   \n",
       "\n",
       "           dti  delinq_2yrs  inq_last_6mths  loan_status_Binary  \n",
       "2657  0.271725          0.0           0.125                 0.0  "
      ]
     },
     "execution_count": 26,
     "metadata": {},
     "output_type": "execute_result"
    }
   ],
   "source": [
    "sample = x_test[2:3] # substitute with the input you want to predict the rate for\n",
    "interest_rate = get_interest_rate(rand_forest_model, sample)\n",
    "print('Predicted interest rate is:', interest_rate)\n",
    "print('for the following user profile:')\n",
    "sample"
   ]
  },
  {
   "cell_type": "markdown",
   "metadata": {
    "slideshow": {
     "slide_type": "slide"
    }
   },
   "source": [
    "### Saving the models"
   ]
  },
  {
   "cell_type": "code",
   "execution_count": 27,
   "metadata": {},
   "outputs": [],
   "source": [
    "# this cell may take a few seconds to execute depending on model size\n",
    "\n",
    "# for saving models\n",
    "import pickle\n",
    "# import _pickle as cPickle # try this if previous import fails\n",
    "\n",
    "model_name = 'best_model.model'\n",
    "pickle.dump(rand_forest_model, open(model_name, 'wb'))"
   ]
  },
  {
   "cell_type": "markdown",
   "metadata": {
    "slideshow": {
     "slide_type": "slide"
    }
   },
   "source": [
    "## Saving data for deployment"
   ]
  },
  {
   "cell_type": "code",
   "execution_count": 28,
   "metadata": {},
   "outputs": [],
   "source": [
    "# order is important\n",
    "features = [\"loan_amnt\", \"term\", \"installment\", \"grade\", \"sub_grade\", \"emp_length\", \"home_ownership\", \"annual_inc\",\n",
    "            \"verification_status\", \"purpose\", \"addr_state\", \"dti\", \"delinq_2yrs\", \"inq_last_6mths\", \"loan_status_Binary\"]"
   ]
  },
  {
   "cell_type": "code",
   "execution_count": 29,
   "metadata": {},
   "outputs": [],
   "source": [
    "prediction_data = [rand_forest_model, df_max, df_min, categories, features]\n",
    "pickle.dump(prediction_data, open('prediction_data.data', 'wb'))"
   ]
  }
 ],
 "metadata": {
  "kernelspec": {
   "display_name": "Python 3",
   "language": "python",
   "name": "python3"
  },
  "language_info": {
   "codemirror_mode": {
    "name": "ipython",
    "version": 3
   },
   "file_extension": ".py",
   "mimetype": "text/x-python",
   "name": "python",
   "nbconvert_exporter": "python",
   "pygments_lexer": "ipython3",
   "version": "3.6.6"
  },
  "livereveal": {
   "scroll": true
  }
 },
 "nbformat": 4,
 "nbformat_minor": 2
}
